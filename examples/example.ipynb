{
 "cells": [
  {
   "cell_type": "code",
   "execution_count": null,
   "metadata": {},
   "outputs": [],
   "source": [
    "# Reload all modules every time\n",
    "# See https://ipython.readthedocs.io/en/stable/config/extensions/autoreload.html\n",
    "%load_ext autoreload\n",
    "%autoreload 3\n",
    "\n",
    "# Place all other imports above `import logging`:\n",
    "from template import hello\n",
    "# import pandas as pd\n",
    "# import numpy as np\n",
    "# ...\n",
    "\n",
    "# Import and configure logger:\n",
    "import logging\n",
    "\n",
    "# Configure root logger (applies to all packages/modules):\n",
    "logging.getLogger().addHandler(logging.StreamHandler())\n",
    "logging.getLogger().setLevel(logging.WARNING)\n",
    "\n",
    "# Configure package/module loggers:\n",
    "logging.getLogger(\"template\").setLevel(logging.INFO)"
   ]
  },
  {
   "cell_type": "code",
   "execution_count": null,
   "metadata": {},
   "outputs": [],
   "source": [
    "# Your code...\n",
    "hello()"
   ]
  }
 ],
 "metadata": {
  "kernelspec": {
   "display_name": ".venv",
   "language": "python",
   "name": "python3"
  },
  "language_info": {
   "codemirror_mode": {
    "name": "ipython",
    "version": 3
   },
   "file_extension": ".py",
   "mimetype": "text/x-python",
   "name": "python",
   "nbconvert_exporter": "python",
   "pygments_lexer": "ipython3",
   "version": "3.11.3"
  },
  "orig_nbformat": 4
 },
 "nbformat": 4,
 "nbformat_minor": 2
}
